{
 "cells": [
  {
   "cell_type": "markdown",
   "metadata": {},
   "source": [
    "# Necessary Upgrades\n",
    "Run the cells in this section to make sure you have the latest version of sklearn and joblib.\n",
    "\n",
    "Restart your kernel after installing."
   ]
  },
  {
   "cell_type": "code",
   "execution_count": 1,
   "metadata": {},
   "outputs": [],
   "source": [
    "## Update sklearn to prevent version mismatches\n",
    "# !pip install sklearn --upgrade"
   ]
  },
  {
   "cell_type": "code",
   "execution_count": 2,
   "metadata": {},
   "outputs": [],
   "source": [
    "## install joblib. This will be used to save your model. \n",
    "# !pip install joblib\n",
    "## Restart your kernel after installing "
   ]
  },
  {
   "cell_type": "markdown",
   "metadata": {},
   "source": [
    "# Import Dependencies"
   ]
  },
  {
   "cell_type": "code",
   "execution_count": 5,
   "metadata": {},
   "outputs": [],
   "source": [
    "import warnings\n",
    "warnings.simplefilter('ignore')\n",
    "\n",
    "import numpy as np\n",
    "import pandas as pd\n",
    "\n",
    "from sklearn.model_selection import train_test_split\n",
    "from sklearn.ensemble import RandomForestClassifier\n",
    "from sklearn.linear_model import LogisticRegression\n",
    "from sklearn.model_selection import GridSearchCV\n",
    "from sklearn.metrics import classification_report\n",
    "\n",
    "import joblib"
   ]
  },
  {
   "cell_type": "markdown",
   "metadata": {},
   "source": [
    "# Read the CSV"
   ]
  },
  {
   "cell_type": "code",
   "execution_count": 6,
   "metadata": {},
   "outputs": [],
   "source": [
    "model_df = pd.read_csv(\"Result/preprocessed_80-19.csv\", index_col = 0)\n",
    "test_df = pd.read_csv(\"Result/preprocessed_2020.csv\", index_col = 0)"
   ]
  },
  {
   "cell_type": "code",
   "execution_count": 7,
   "metadata": {},
   "outputs": [
    {
     "data": {
      "text/plain": [
       "Index(['RK', 'Team', 'Year', 'G', 'W', 'L', 'Conf', 'MP', 'FG', 'FGA', 'FG%',\n",
       "       '3P', '3PA', '3P%', '2P', '2PA', '2P%', 'FT', 'FTA', 'FT%', 'ORB',\n",
       "       'DRB', 'AST', 'STL', 'BLK', 'TOV', 'PF', 'PTS', 'MP_scalnorm',\n",
       "       'FG_scalnorm', 'FGA_scalnorm', 'FG%_scalnorm', '3P_scalnorm',\n",
       "       '3PA_scalnorm', '3P%_scalnorm', '2P_scalnorm', '2PA_scalnorm',\n",
       "       '2P%_scalnorm', 'FT_scalnorm', 'FTA_scalnorm', 'FT%_scalnorm',\n",
       "       'ORB_scalnorm', 'DRB_scalnorm', 'AST_scalnorm', 'STL_scalnorm',\n",
       "       'BLK_scalnorm', 'TOV_scalnorm', 'PF_scalnorm', 'PTS_scalnorm',\n",
       "       'playoffs_y_n', 'W_%'],\n",
       "      dtype='object')"
      ]
     },
     "execution_count": 7,
     "metadata": {},
     "output_type": "execute_result"
    }
   ],
   "source": [
    "model_df.head()\n",
    "test_df.head()\n",
    "model_df.columns"
   ]
  },
  {
   "cell_type": "markdown",
   "metadata": {},
   "source": [
    "# Model 1: Random Train Test Split"
   ]
  },
  {
   "cell_type": "markdown",
   "metadata": {},
   "source": [
    "## Select X and Y, Split"
   ]
  },
  {
   "cell_type": "code",
   "execution_count": 8,
   "metadata": {
    "scrolled": true
   },
   "outputs": [],
   "source": [
    "y_M1 = model_df[['playoffs_y_n']]\n",
    "\n",
    "# all the columns minus y\n",
    "drop_columns = ['playoffs_y_n', 'RK', 'Team', 'Year', 'G', 'W', 'L', 'Conf', 'MP_scalnorm',\n",
    "       'FG_scalnorm', 'FGA_scalnorm', 'FG%_scalnorm', '3P_scalnorm',\n",
    "       '3PA_scalnorm', '3P%_scalnorm', '2P_scalnorm', '2PA_scalnorm',\n",
    "       '2P%_scalnorm', 'FT_scalnorm', 'FTA_scalnorm', 'FT%_scalnorm',\n",
    "       'ORB_scalnorm', 'DRB_scalnorm', 'AST_scalnorm', 'STL_scalnorm',\n",
    "       'BLK_scalnorm', 'TOV_scalnorm', 'PF_scalnorm', 'PTS_scalnorm',\n",
    "       'playoffs_y_n'\n",
    "#         'W_%'\n",
    "               ]\n",
    "\n",
    "X_M1 = model_df.drop(columns=drop_columns)\n",
    "feature_names_M1 = X_M1.columns\n",
    "\n",
    "X_train_M1, X_test_M1, y_train_M1, y_test_M1 = train_test_split(X_M1, y_M1, random_state=42)\n",
    "# X_train.head()"
   ]
  },
  {
   "cell_type": "markdown",
   "metadata": {},
   "source": [
    "## RFC M1"
   ]
  },
  {
   "cell_type": "code",
   "execution_count": 9,
   "metadata": {},
   "outputs": [
    {
     "name": "stdout",
     "output_type": "stream",
     "text": [
      "Training Data Score: 1.0\n",
      "Testing Data Score: 0.9239130434782609\n",
      "              precision    recall  f1-score   support\n",
      "\n",
      "           0       0.94      0.89      0.91       126\n",
      "           1       0.91      0.95      0.93       150\n",
      "\n",
      "    accuracy                           0.92       276\n",
      "   macro avg       0.93      0.92      0.92       276\n",
      "weighted avg       0.92      0.92      0.92       276\n",
      "\n",
      "-----------------\n"
     ]
    }
   ],
   "source": [
    "rfc_m1= RandomForestClassifier()\n",
    "rfc_m1.fit(X_train_M1, y_train_M1)\n",
    "\n",
    "print(f\"Training Data Score: {rfc_m1.score(X_train_M1, y_train_M1)}\")\n",
    "print(f\"Testing Data Score: {rfc_m1.score(X_test_M1, y_test_M1)}\")\n",
    "\n",
    "predictions_M1 = rfc_m1.predict(X_test_M1)\n",
    "print(classification_report(y_test_M1, predictions_M1))\n",
    "\n",
    "print (\"-----------------\")\n",
    "\n",
    "#importance\n",
    "# print (\" importance\")\n",
    "# importances = rfc_m1.feature_importances_\n",
    "# sorted(zip(importances, feature_names_M1), reverse=True)"
   ]
  },
  {
   "cell_type": "markdown",
   "metadata": {},
   "source": [
    "## Logistic M1"
   ]
  },
  {
   "cell_type": "code",
   "execution_count": 11,
   "metadata": {},
   "outputs": [
    {
     "name": "stdout",
     "output_type": "stream",
     "text": [
      "M1 Logistic\n",
      "Training Data Score: 0.8442028985507246\n",
      "Testing Data Score: 0.8478260869565217\n"
     ]
    }
   ],
   "source": [
    "model_log_m1 = LogisticRegression()\n",
    "model_log_m1.fit(X_train_M1, y_train_M1)\n",
    "\n",
    "print(\"M1 Logistic\")\n",
    "print(f\"Training Data Score: {model_log_m1.score(X_train_M1, y_train_M1)}\")\n",
    "print(f\"Testing Data Score: {model_log_m1.score(X_test_M1, y_test_M1)}\")"
   ]
  },
  {
   "cell_type": "markdown",
   "metadata": {},
   "source": [
    "## 2020 Predictions"
   ]
  },
  {
   "cell_type": "code",
   "execution_count": 8,
   "metadata": {
    "scrolled": true
   },
   "outputs": [],
   "source": [
    "# X_2020 = test_df.drop(columns=drop_columns)\n",
    "\n",
    "# predictions_2020 = rfc_m1.predict(X_2020)\n",
    "\n",
    "# predicted_2020 = predictions_2020\n",
    "# teams_2020 = test_df[\"Team\"].tolist()\n",
    "# years_2020 = test_df[\"Year\"].tolist()\n",
    "# conf_2020 = test_df[\"Conf\"].tolist()\n",
    "# predict_table = pd.DataFrame({\"Team\": teams_2020, \"Conf\": conf_2020, \"Year\": years_2020, \"Predicted\": predicted_2020}).reset_index(drop=True)\n",
    "# predict_table"
   ]
  },
  {
   "cell_type": "markdown",
   "metadata": {},
   "source": [
    "# Model 2: Train Test Split Based on Year"
   ]
  },
  {
   "cell_type": "markdown",
   "metadata": {},
   "source": [
    "## Select X and Y, Split"
   ]
  },
  {
   "cell_type": "code",
   "execution_count": 12,
   "metadata": {
    "scrolled": true
   },
   "outputs": [],
   "source": [
    "drop_columns = ['playoffs_y_n', 'RK', 'Team', 'Year', 'G', 'W', 'L', 'Conf', 'MP_scalnorm',\n",
    "       'FG_scalnorm', 'FGA_scalnorm', 'FG%_scalnorm', '3P_scalnorm',\n",
    "       '3PA_scalnorm', '3P%_scalnorm', '2P_scalnorm', '2PA_scalnorm',\n",
    "       '2P%_scalnorm', 'FT_scalnorm', 'FTA_scalnorm', 'FT%_scalnorm',\n",
    "       'ORB_scalnorm', 'DRB_scalnorm', 'AST_scalnorm', 'STL_scalnorm',\n",
    "       'BLK_scalnorm', 'TOV_scalnorm', 'PF_scalnorm', 'PTS_scalnorm',\n",
    "       'playoffs_y_n'\n",
    "#         'W_%'\n",
    "               ]\n",
    "\n",
    "train_M2 = model_df.loc[model_df[\"Year\"] < 2017]\n",
    "test_M2 = model_df.loc[model_df[\"Year\"] >= 2017]\n",
    "# test = pd.concat([test, test_df], axis = 0)\n",
    "\n",
    "X_train_M2 = train_M2.drop(columns=drop_columns)\n",
    "X_test_M2 = test_M2.drop(columns=drop_columns)\n",
    "\n",
    "y_train_M2 = train_M2[['playoffs_y_n']]\n",
    "y_test_M2 = test_M2[['playoffs_y_n']]\n",
    "\n",
    "feature_names_M2 = train_M2.columns"
   ]
  },
  {
   "cell_type": "markdown",
   "metadata": {},
   "source": [
    "## RFC M2"
   ]
  },
  {
   "cell_type": "code",
   "execution_count": 13,
   "metadata": {},
   "outputs": [
    {
     "name": "stdout",
     "output_type": "stream",
     "text": [
      "Training Data Score: 1.0\n",
      "Testing Data Score: 0.9222222222222223\n",
      "              precision    recall  f1-score   support\n",
      "\n",
      "           0       0.97      0.86      0.91        42\n",
      "           1       0.89      0.98      0.93        48\n",
      "\n",
      "    accuracy                           0.92        90\n",
      "   macro avg       0.93      0.92      0.92        90\n",
      "weighted avg       0.93      0.92      0.92        90\n",
      "\n"
     ]
    }
   ],
   "source": [
    "rfc_m2= RandomForestClassifier()\n",
    "rfc_m2.fit(X_train_M2, y_train_M2)\n",
    "\n",
    "print(f\"Training Data Score: {rfc_m2.score(X_train_M2, y_train_M2)}\")\n",
    "print(f\"Testing Data Score: {rfc_m2.score(X_test_M2, y_test_M2)}\")\n",
    "\n",
    "predictions_M2 = rfc_m2.predict(X_test_M2)\n",
    "print(classification_report(y_test_M2, predictions_M2))\n",
    "\n",
    "# print (\"-----------------\")\n",
    "# #importance\n",
    "# print (\" importance\")\n",
    "# importances = rfc_m2.feature_importances_\n",
    "# sorted(zip(importances, feature_names_M2), reverse=True)"
   ]
  },
  {
   "cell_type": "markdown",
   "metadata": {},
   "source": [
    "## Logistic M2"
   ]
  },
  {
   "cell_type": "code",
   "execution_count": 14,
   "metadata": {},
   "outputs": [
    {
     "name": "stdout",
     "output_type": "stream",
     "text": [
      "M2 Logistic\n",
      "Training Data Score: 0.8599605522682445\n",
      "Testing Data Score: 0.7444444444444445\n"
     ]
    }
   ],
   "source": [
    "model_log_m2 = LogisticRegression()\n",
    "model_log_m2.fit(X_train_M2, y_train_M2)\n",
    "\n",
    "print(\"M2 Logistic\")\n",
    "print(f\"Training Data Score: {model_log_m2.score(X_train_M2, y_train_M2)}\")\n",
    "print(f\"Testing Data Score: {model_log_m2.score(X_test_M2, y_test_M2)}\")"
   ]
  },
  {
   "cell_type": "markdown",
   "metadata": {},
   "source": [
    "## 2020 Predictions"
   ]
  },
  {
   "cell_type": "code",
   "execution_count": 15,
   "metadata": {
    "scrolled": true
   },
   "outputs": [],
   "source": [
    "# X_2020 = test_df.drop(columns=drop_columns)\n",
    "\n",
    "# predictions_2020 = rfc_m2.predict(X_2020)\n",
    "\n",
    "# predicted_2020 = predictions_2020\n",
    "# teams_2020 = test_df[\"Team\"].tolist()\n",
    "# years_2020 = test_df[\"Year\"].tolist()\n",
    "# conf_2020 = test_df[\"Conf\"].tolist()\n",
    "# predict_table = pd.DataFrame({\"Team\": teams_2020, \"Conf\": conf_2020, \"Year\": years_2020, \"Predicted\": predicted_2020}).reset_index(drop=True)\n",
    "# predict_table"
   ]
  },
  {
   "cell_type": "markdown",
   "metadata": {},
   "source": [
    "# Model 3East: Train Test Split Based on Year and Conference (East)"
   ]
  },
  {
   "cell_type": "markdown",
   "metadata": {},
   "source": [
    "## Select X and Y, Split"
   ]
  },
  {
   "cell_type": "code",
   "execution_count": 25,
   "metadata": {
    "scrolled": true
   },
   "outputs": [],
   "source": [
    "drop_columns = ['playoffs_y_n', 'RK', 'Team', 'Year', 'Conf',\n",
    "#                 'G', 'W', 'L', \n",
    "                'MP_scalnorm', 'FG_scalnorm', 'FGA_scalnorm', 'FG%_scalnorm', '3P_scalnorm',\n",
    "                '3PA_scalnorm', '3P%_scalnorm', '2P_scalnorm', '2PA_scalnorm', '2P%_scalnorm', \n",
    "                'FT_scalnorm', 'FTA_scalnorm', 'FT%_scalnorm', 'ORB_scalnorm', 'DRB_scalnorm', \n",
    "                'AST_scalnorm', 'STL_scalnorm', 'BLK_scalnorm', 'TOV_scalnorm', 'PF_scalnorm', \n",
    "                'PTS_scalnorm',\n",
    "                #         'W_%'\n",
    "               ]\n",
    "\n",
    "df_east = model_df.loc[model_df[\"Conf\"] == \"East\"]\n",
    "test_df_east = test_df.loc[test_df[\"Conf\"] == \"East\"]\n",
    "\n",
    "train_M3E = df_east.loc[df_east[\"Year\"] < 2017]\n",
    "test_M3E = df_east.loc[df_east[\"Year\"] >= 2017]\n",
    "# test = pd.concat([test, test_df_east], axis = 0)\n",
    "\n",
    "X_train_M3E = train_M3E.drop(columns=drop_columns)\n",
    "X_test_M3E = test_M3E.drop(columns=drop_columns)\n",
    "\n",
    "y_train_M3E = train_M3E[['playoffs_y_n']]\n",
    "y_test_M3E = test_M3E[['playoffs_y_n']]\n",
    "\n",
    "feature_names_M3E = train_M3E.columns"
   ]
  },
  {
   "cell_type": "markdown",
   "metadata": {},
   "source": [
    "## RFC M3East"
   ]
  },
  {
   "cell_type": "code",
   "execution_count": 26,
   "metadata": {},
   "outputs": [
    {
     "name": "stdout",
     "output_type": "stream",
     "text": [
      "Training Data Score: 1.0\n",
      "Testing Data Score: 0.9111111111111111\n",
      "              precision    recall  f1-score   support\n",
      "\n",
      "           0       1.00      0.81      0.89        21\n",
      "           1       0.86      1.00      0.92        24\n",
      "\n",
      "    accuracy                           0.91        45\n",
      "   macro avg       0.93      0.90      0.91        45\n",
      "weighted avg       0.92      0.91      0.91        45\n",
      "\n"
     ]
    }
   ],
   "source": [
    "rfc_m3East= RandomForestClassifier()\n",
    "rfc_m3East.fit(X_train_M3E, y_train_M3E)\n",
    "\n",
    "print(f\"Training Data Score: {rfc_m3East.score(X_train_M3E, y_train_M3E)}\")\n",
    "print(f\"Testing Data Score: {rfc_m3East.score(X_test_M3E, y_test_M3E)}\")\n",
    "\n",
    "predictions_M3E = rfc_m3East.predict(X_test_M3E)\n",
    "print(classification_report(y_test_M3E, predictions_M3E))\n",
    "\n",
    "# print (\"-----------------\")\n",
    "#importance\n",
    "# print (\" importance\")\n",
    "# importances = rfc_m3East.feature_importances_\n",
    "# sorted(zip(importances, feature_names_M3E), reverse=True)"
   ]
  },
  {
   "cell_type": "markdown",
   "metadata": {},
   "source": [
    "## Logistic M3East"
   ]
  },
  {
   "cell_type": "code",
   "execution_count": 27,
   "metadata": {},
   "outputs": [
    {
     "name": "stdout",
     "output_type": "stream",
     "text": [
      "M2 Logistic\n",
      "Training Data Score: 0.9389763779527559\n",
      "Testing Data Score: 0.9555555555555556\n"
     ]
    }
   ],
   "source": [
    "model_log_m3East = LogisticRegression()\n",
    "model_log_m3East.fit(X_train_M3E, y_train_M3E)\n",
    "\n",
    "print(\"M2 Logistic\")\n",
    "print(f\"Training Data Score: {model_log_m3East.score(X_train_M3E, y_train_M3E)}\")\n",
    "print(f\"Testing Data Score: {model_log_m3East.score(X_test_M3E, y_test_M3E)}\")"
   ]
  },
  {
   "cell_type": "markdown",
   "metadata": {},
   "source": [
    "## 2020 Predictions"
   ]
  },
  {
   "cell_type": "code",
   "execution_count": 28,
   "metadata": {
    "scrolled": true
   },
   "outputs": [],
   "source": [
    "# X_2020 = test_df_east.drop(columns=drop_columns)\n",
    "\n",
    "# predictions_2020 = rfc_m3East.predict(X_2020)\n",
    "\n",
    "# predicted_2020 = predictions_2020\n",
    "# teams_2020 = test_df_east[\"Team\"].tolist()\n",
    "# years_2020 = test_df_east[\"Year\"].tolist()\n",
    "# conf_2020 = test_df_east[\"Conf\"].tolist()\n",
    "# predict_table = pd.DataFrame({\"Team\": teams_2020, \"Conf\": conf_2020, \"Year\": years_2020, \"Predicted\": predicted_2020}).reset_index(drop=True)\n",
    "# predict_table"
   ]
  },
  {
   "cell_type": "markdown",
   "metadata": {},
   "source": [
    "# Model 3West: Train Test Split Based on Year and Conference (West)"
   ]
  },
  {
   "cell_type": "markdown",
   "metadata": {},
   "source": [
    "## Select X and Y, Split, Train, Test"
   ]
  },
  {
   "cell_type": "code",
   "execution_count": 32,
   "metadata": {
    "scrolled": true
   },
   "outputs": [],
   "source": [
    "drop_columns = ['playoffs_y_n', 'RK', 'Team', 'Year', 'Conf',\n",
    "#                 'G', 'W', 'L', \n",
    "                'MP_scalnorm', 'FG_scalnorm', 'FGA_scalnorm', 'FG%_scalnorm', '3P_scalnorm',\n",
    "                '3PA_scalnorm', '3P%_scalnorm', '2P_scalnorm', '2PA_scalnorm', '2P%_scalnorm', \n",
    "                'FT_scalnorm', 'FTA_scalnorm', 'FT%_scalnorm', 'ORB_scalnorm', 'DRB_scalnorm', \n",
    "                'AST_scalnorm', 'STL_scalnorm', 'BLK_scalnorm', 'TOV_scalnorm', 'PF_scalnorm', \n",
    "                'PTS_scalnorm',\n",
    "                #         'W_%'\n",
    "               ]\n",
    "\n",
    "df_west = model_df.loc[model_df[\"Conf\"] == \"West\"]\n",
    "test_df_west = test_df.loc[test_df[\"Conf\"] == \"West\"]\n",
    "\n",
    "train_M3W = df_west.loc[df_west[\"Year\"] < 2017]\n",
    "test_M3W = df_west.loc[df_west[\"Year\"] >= 2017]\n",
    "# test = pd.concat([test, test_df_west], axis = 0)\n",
    "\n",
    "X_train_M3W = train_M3W.drop(columns=drop_columns)\n",
    "X_test_M3W = test_M3W.drop(columns=drop_columns)\n",
    "\n",
    "y_train_M3W = train_M3W[['playoffs_y_n']]\n",
    "y_test_M3W = test_M3W[['playoffs_y_n']]\n",
    "\n",
    "feature_names_M3W = train_M3W.columns"
   ]
  },
  {
   "cell_type": "markdown",
   "metadata": {},
   "source": [
    "## RFC M3West"
   ]
  },
  {
   "cell_type": "code",
   "execution_count": 33,
   "metadata": {},
   "outputs": [
    {
     "name": "stdout",
     "output_type": "stream",
     "text": [
      "Training Data Score: 1.0\n",
      "Testing Data Score: 0.9333333333333333\n",
      "              precision    recall  f1-score   support\n",
      "\n",
      "           0       0.95      0.90      0.93        21\n",
      "           1       0.92      0.96      0.94        24\n",
      "\n",
      "    accuracy                           0.93        45\n",
      "   macro avg       0.94      0.93      0.93        45\n",
      "weighted avg       0.93      0.93      0.93        45\n",
      "\n"
     ]
    }
   ],
   "source": [
    "rfc_m3West= RandomForestClassifier()\n",
    "rfc_m3West.fit(X_train_M3W, y_train_M3W)\n",
    "\n",
    "print(f\"Training Data Score: {rfc_m3West.score(X_train_M3W, y_train_M3W)}\")\n",
    "print(f\"Testing Data Score: {rfc_m3West.score(X_test_M3W, y_test_M3W)}\")\n",
    "\n",
    "predictions_M3W = rfc_m3West.predict(X_test_M3W)\n",
    "print(classification_report(y_test_M3W, predictions_M3W))\n",
    "\n",
    "# print (\"-----------------\")\n",
    "# #importance\n",
    "# print (\" importance\")\n",
    "# importances = rfc_m3West.feature_importances_\n",
    "# sorted(zip(importances, feature_names_M3W), reverse=True)"
   ]
  },
  {
   "cell_type": "markdown",
   "metadata": {},
   "source": [
    "## Logistic M3West"
   ]
  },
  {
   "cell_type": "code",
   "execution_count": 34,
   "metadata": {},
   "outputs": [
    {
     "name": "stdout",
     "output_type": "stream",
     "text": [
      "M2 Logistic\n",
      "Training Data Score: 0.9565217391304348\n",
      "Testing Data Score: 0.9333333333333333\n"
     ]
    }
   ],
   "source": [
    "model_log_m3West = LogisticRegression()\n",
    "model_log_m3West.fit(X_train_M3W, y_train_M3W)\n",
    "\n",
    "print(\"M2 Logistic\")\n",
    "print(f\"Training Data Score: {model_log_m3West.score(X_train_M3W, y_train_M3W)}\")\n",
    "print(f\"Testing Data Score: {model_log_m3West.score(X_test_M3W, y_test_M3W)}\")"
   ]
  },
  {
   "cell_type": "markdown",
   "metadata": {},
   "source": [
    "## 2020 Predictions"
   ]
  },
  {
   "cell_type": "code",
   "execution_count": 20,
   "metadata": {},
   "outputs": [],
   "source": [
    "# X_2020 = test_df_west.drop(columns=drop_columns)\n",
    "\n",
    "# predictions_2020 = rfc_m3West.predict(X_2020)\n",
    "\n",
    "# predicted_2020 = predictions_2020\n",
    "# teams_2020 = test_df_west[\"Team\"].tolist()\n",
    "# years_2020 = test_df_west[\"Year\"].tolist()\n",
    "# conf_2020 = test_df_west[\"Conf\"].tolist()\n",
    "# predict_table = pd.DataFrame({\"Team\": teams_2020, \"Conf\": conf_2020, \"Year\": years_2020, \"Predicted\": predicted_2020}).reset_index(drop=True)\n",
    "# predict_table"
   ]
  },
  {
   "cell_type": "markdown",
   "metadata": {},
   "source": [
    "# Hyperparameter Tuning\n",
    "\n",
    "Use `GridSearchCV` to tune the model's parameters"
   ]
  },
  {
   "cell_type": "code",
   "execution_count": 65,
   "metadata": {},
   "outputs": [],
   "source": [
    "# # Create the GridSearchCV model\n",
    "\n",
    "# param_grid = { \n",
    "#     'n_estimators': [200, 500],\n",
    "#     \"min_samples_split\": [2, 5, 10, 15, 100],\n",
    "#     'max_depth' : [5, 8, 15, 25],\n",
    "#     \"min_samples_leaf\": [1, 2, 5, 10] \n",
    "# }\n",
    "\n",
    "# rfc_search = RandomForestClassifier()\n",
    "# rfc_grid =  GridSearchCV(estimator=rfc_search, param_grid=param_grid, cv= 5, verbose = 2)"
   ]
  },
  {
   "cell_type": "code",
   "execution_count": 66,
   "metadata": {
    "scrolled": true
   },
   "outputs": [],
   "source": [
    "# # Train the model with GridSearch\n",
    "# best_rfc_model = rfc_grid.fit(X_train, y_train)"
   ]
  },
  {
   "cell_type": "code",
   "execution_count": 67,
   "metadata": {},
   "outputs": [],
   "source": [
    "# print(f\"Best params: {best_rfc_model.best_params_}\")\n",
    "# print(f\"Best score: {best_rfc_model.best_score_}\")\n",
    "# print(f\"Best estimator: {best_rfc_model.best_estimator_}\")\n",
    "# print (\"---\")"
   ]
  },
  {
   "cell_type": "markdown",
   "metadata": {},
   "source": [
    "# Test Model"
   ]
  },
  {
   "cell_type": "code",
   "execution_count": 68,
   "metadata": {},
   "outputs": [],
   "source": [
    "# print(f\"Training Data Score: {best_rfc_model.score(X_train, y_train)}\")\n",
    "# print(f\"Testing Data Score: {best_rfc_model.score(X_test, y_test)}\")\n",
    "\n",
    "# predictions = best_rfc_model.predict(X_test)\n",
    "# print(classification_report(y_test, predictions))\n",
    "\n",
    "# print (\"---\")"
   ]
  },
  {
   "cell_type": "code",
   "execution_count": 69,
   "metadata": {
    "scrolled": true
   },
   "outputs": [],
   "source": [
    "# # see how it compares\n",
    "# predicted = predictions[:20]\n",
    "# actual = y_test[\"playoffs_y_n\"][:20].tolist()\n",
    "# teams = model_df[\"Team\"][:20].tolist()\n",
    "# years = model_df[\"Year\"][:20].tolist()\n",
    "# pd.DataFrame({\"Team\": teams, \"Year\": years, \"Actual\": actual, \"Predicted\": predicted}).reset_index(drop=True)"
   ]
  },
  {
   "cell_type": "markdown",
   "metadata": {},
   "source": [
    "# Save the Model"
   ]
  },
  {
   "cell_type": "code",
   "execution_count": 70,
   "metadata": {},
   "outputs": [],
   "source": [
    "# rfc = 'models/rfc.h5'\n",
    "# joblib.dump(best_rfc_model, rfc)"
   ]
  },
  {
   "cell_type": "code",
   "execution_count": 71,
   "metadata": {},
   "outputs": [],
   "source": [
    "# loaded_model = joblib.load(\"models/rfc.h5\")\n",
    "# print(f\"{loaded_model.score(X_test, y_test)}\")\n"
   ]
  },
  {
   "cell_type": "code",
   "execution_count": null,
   "metadata": {},
   "outputs": [],
   "source": []
  }
 ],
 "metadata": {
  "kernel_info": {
   "name": "dev"
  },
  "kernelspec": {
   "display_name": "Python 3.7.5 64-bit ('PythonData': conda)",
   "language": "python",
   "name": "python37564bitpythondataconda93b4aacbe3a94029a49f9aca4966340b"
  },
  "language_info": {
   "codemirror_mode": {
    "name": "ipython",
    "version": 3
   },
   "file_extension": ".py",
   "mimetype": "text/x-python",
   "name": "python",
   "nbconvert_exporter": "python",
   "pygments_lexer": "ipython3",
   "version": "3.7.5"
  },
  "nteract": {
   "version": "0.12.3"
  }
 },
 "nbformat": 4,
 "nbformat_minor": 2
}
