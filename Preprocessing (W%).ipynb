{
 "cells": [
  {
   "cell_type": "code",
   "execution_count": 1,
   "metadata": {},
   "outputs": [],
   "source": [
    "import warnings\n",
    "warnings.simplefilter('ignore')\n",
    "\n",
    "# imports\n",
    "\n",
    "import pandas as pd\n",
    "import numpy as np\n",
    "\n",
    "from sklearn.preprocessing import QuantileTransformer\n",
    "from sklearn.preprocessing import Normalizer"
   ]
  },
  {
   "cell_type": "code",
   "execution_count": 2,
   "metadata": {},
   "outputs": [],
   "source": [
    "#read csv files in\n",
    "df = pd.read_csv(\"NBA_data/NBA_data_all_80-19.csv\")\n",
    "df2020 = pd.read_csv(\"NBA_data/NBA_data_all_19-20.csv\")"
   ]
  },
  {
   "cell_type": "code",
   "execution_count": 3,
   "metadata": {},
   "outputs": [],
   "source": [
    "# creating new columns\n",
    "df[\"playoffs_y_n\"] = df[\"Team\"].map(lambda x: 1 if \"*\" in x else 0)\n",
    "df[\"Team\"] = df[\"Team\"].str.replace(\"*\", \"\")\n",
    "df[\"W%\"] = df[\"W\"]/df[\"G\"]\n",
    "\n",
    "df2020[\"playoffs_y_n\"] = df2020[\"Team\"].map(lambda x: 1 if \"*\" in x else 0)\n",
    "df2020[\"Team\"] = df2020[\"Team\"].str.replace(\"*\", \"\")\n",
    "df2020[\"W%\"] = df2020[\"W\"]/df2020[\"G\"]"
   ]
  },
  {
   "cell_type": "code",
   "execution_count": 4,
   "metadata": {},
   "outputs": [],
   "source": [
    "# scale stats by year\n",
    "scaler = QuantileTransformer(output_distribution='normal')\n",
    "normalizer = Normalizer()\n",
    "\n",
    "norm_scaled_dfs = []\n",
    "\n",
    "# These columns will not be scaled/normalized.\n",
    "stay_columns = [\"RK\", \"Team\", \"Year\", \"Conf\", \"playoffs_y_n\", \"G\", \"W\", \"L\"]\n",
    "\n",
    "a = df[\"Year\"].min()\n",
    "b = df[\"Year\"].max()\n",
    "x = b - a + 1\n",
    "for i in range (x):\n",
    "    year = a+i\n",
    "    df_year = df.loc[df[\"Year\"] == year]\n",
    "    stay_df = df_year[stay_columns].reset_index(drop=True)   \n",
    "    change_df = df_year.drop(columns=stay_columns).reset_index(drop=True)\n",
    "    \n",
    "#   scale data\n",
    "    scaled_df = pd.DataFrame(scaler.fit_transform(change_df), columns=change_df.columns)\n",
    "#   normalize data\n",
    "    normalized_df = pd.DataFrame(normalizer.fit_transform(scaled_df), columns=scaled_df.columns)    \n",
    "    \n",
    "    merged_df = stay_df.merge(change_df, left_index=True, right_index=True)\n",
    "    merged_df = merged_df.merge(normalized_df, left_index=True, right_index=True, suffixes = ('', '_scalnorm'))\n",
    "    \n",
    "    norm_scaled_dfs.append(merged_df)\n",
    "\n",
    "final_df = pd.concat(norm_scaled_dfs, axis=0)\n",
    "final_df = final_df.dropna()\n",
    "\n",
    "# scale 2020 df\n",
    "stay_df2020 = df2020[stay_columns].reset_index(drop=True)   \n",
    "change_df2020 = df2020.drop(columns=stay_columns).reset_index(drop=True)\n",
    "\n",
    "scaled_df2020 = pd.DataFrame(scaler.fit_transform(change_df2020), columns=change_df2020.columns)\n",
    "normalized_df = pd.DataFrame(normalizer.fit_transform(scaled_df2020), columns=scaled_df2020.columns) \n",
    "\n",
    "merged_df2020 = stay_df2020.merge(change_df2020, left_index=True, right_index=True)\n",
    "merged_df2020 = merged_df2020.merge(normalized_df, left_index=True, right_index=True, suffixes = ('', '_scalnorm'))\n",
    "final_df2020 = merged_df2020 "
   ]
  },
  {
   "cell_type": "code",
   "execution_count": 5,
   "metadata": {},
   "outputs": [],
   "source": [
    "final_df2020.to_csv(\"NBA_data/preprocessed_2020_Wperc.csv\")\n",
    "final_df.to_csv(\"NBA_data/preprocessed_80-19_Wperc.csv\")"
   ]
  },
  {
   "cell_type": "code",
   "execution_count": 6,
   "metadata": {},
   "outputs": [
    {
     "data": {
      "text/plain": [
       "Index(['RK', 'Team', 'Year', 'Conf', 'playoffs_y_n', 'G', 'W', 'L', 'MP', 'FG',\n",
       "       'FGA', 'FG%', '3P', '3PA', '3P%', '2P', '2PA', '2P%', 'FT', 'FTA',\n",
       "       'FT%', 'ORB', 'DRB', 'AST', 'STL', 'BLK', 'TOV', 'PF', 'PTS', 'W%',\n",
       "       'MP_scalnorm', 'FG_scalnorm', 'FGA_scalnorm', 'FG%_scalnorm',\n",
       "       '3P_scalnorm', '3PA_scalnorm', '3P%_scalnorm', '2P_scalnorm',\n",
       "       '2PA_scalnorm', '2P%_scalnorm', 'FT_scalnorm', 'FTA_scalnorm',\n",
       "       'FT%_scalnorm', 'ORB_scalnorm', 'DRB_scalnorm', 'AST_scalnorm',\n",
       "       'STL_scalnorm', 'BLK_scalnorm', 'TOV_scalnorm', 'PF_scalnorm',\n",
       "       'PTS_scalnorm', 'W%_scalnorm'],\n",
       "      dtype='object')"
      ]
     },
     "execution_count": 6,
     "metadata": {},
     "output_type": "execute_result"
    }
   ],
   "source": [
    "final_df.columns"
   ]
  }
 ],
 "metadata": {
  "kernelspec": {
   "display_name": "Python 3.7.5 64-bit ('PythonData': conda)",
   "language": "python",
   "name": "python37564bitpythondataconda93b4aacbe3a94029a49f9aca4966340b"
  },
  "language_info": {
   "codemirror_mode": {
    "name": "ipython",
    "version": 3
   },
   "file_extension": ".py",
   "mimetype": "text/x-python",
   "name": "python",
   "nbconvert_exporter": "python",
   "pygments_lexer": "ipython3",
   "version": "3.7.5"
  }
 },
 "nbformat": 4,
 "nbformat_minor": 2
}
