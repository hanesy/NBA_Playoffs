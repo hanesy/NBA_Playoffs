{
 "cells": [
  {
   "cell_type": "markdown",
   "metadata": {},
   "source": [
    "# Necessary Upgrades\n",
    "Run the cells in this section to make sure you have the latest version of sklearn and joblib.\n",
    "\n",
    "Restart your kernel after installing."
   ]
  },
  {
   "cell_type": "code",
   "execution_count": 1,
   "metadata": {},
   "outputs": [],
   "source": [
    "## Update sklearn to prevent version mismatches\n",
    "# !pip install sklearn --upgrade"
   ]
  },
  {
   "cell_type": "code",
   "execution_count": 2,
   "metadata": {},
   "outputs": [],
   "source": [
    "## install joblib. This will be used to save your model. \n",
    "# !pip install joblib\n",
    "## Restart your kernel after installing "
   ]
  },
  {
   "cell_type": "markdown",
   "metadata": {},
   "source": [
    "# Import Dependencies"
   ]
  },
  {
   "cell_type": "code",
   "execution_count": 1,
   "metadata": {},
   "outputs": [],
   "source": [
    "import warnings\n",
    "warnings.simplefilter('ignore')\n",
    "\n",
    "import numpy as np\n",
    "import pandas as pd\n",
    "\n",
    "from sklearn.model_selection import train_test_split\n",
    "from sklearn.ensemble import RandomForestClassifier\n",
    "from sklearn.linear_model import LogisticRegression\n",
    "from sklearn.svm import SVC \n",
    "from sklearn.model_selection import GridSearchCV\n",
    "from sklearn.metrics import classification_report\n",
    "\n",
    "import joblib"
   ]
  },
  {
   "cell_type": "markdown",
   "metadata": {},
   "source": [
    "# Read the CSV"
   ]
  },
  {
   "cell_type": "code",
   "execution_count": 2,
   "metadata": {},
   "outputs": [],
   "source": [
    "model_df = pd.read_csv(\"Result/preprocessed_80-19.csv\", index_col = 0)\n",
    "test_df = pd.read_csv(\"Result/preprocessed_2020.csv\", index_col = 0)"
   ]
  },
  {
   "cell_type": "code",
   "execution_count": 3,
   "metadata": {},
   "outputs": [
    {
     "data": {
      "text/plain": [
       "Index(['RK', 'Team', 'Year', 'G', 'W', 'L', 'Conf', 'MP', 'FG', 'FGA', 'FG%',\n",
       "       '3P', '3PA', '3P%', '2P', '2PA', '2P%', 'FT', 'FTA', 'FT%', 'ORB',\n",
       "       'DRB', 'AST', 'STL', 'BLK', 'TOV', 'PF', 'PTS', 'MP_scalnorm',\n",
       "       'FG_scalnorm', 'FGA_scalnorm', 'FG%_scalnorm', '3P_scalnorm',\n",
       "       '3PA_scalnorm', '3P%_scalnorm', '2P_scalnorm', '2PA_scalnorm',\n",
       "       '2P%_scalnorm', 'FT_scalnorm', 'FTA_scalnorm', 'FT%_scalnorm',\n",
       "       'ORB_scalnorm', 'DRB_scalnorm', 'AST_scalnorm', 'STL_scalnorm',\n",
       "       'BLK_scalnorm', 'TOV_scalnorm', 'PF_scalnorm', 'PTS_scalnorm',\n",
       "       'playoffs_y_n', 'W_%'],\n",
       "      dtype='object')"
      ]
     },
     "execution_count": 3,
     "metadata": {},
     "output_type": "execute_result"
    }
   ],
   "source": [
    "model_df.head()\n",
    "test_df.head()\n",
    "model_df.columns"
   ]
  },
  {
   "cell_type": "markdown",
   "metadata": {},
   "source": [
    "# Train Test Split Based on Year and Conference (East)"
   ]
  },
  {
   "cell_type": "markdown",
   "metadata": {},
   "source": [
    "## Select X and Y, Split"
   ]
  },
  {
   "cell_type": "code",
   "execution_count": 1,
   "metadata": {
    "scrolled": true
   },
   "outputs": [
    {
     "ename": "NameError",
     "evalue": "name 'model_df' is not defined",
     "output_type": "error",
     "traceback": [
      "\u001b[1;31m---------------------------------------------------------------------------\u001b[0m",
      "\u001b[1;31mNameError\u001b[0m                                 Traceback (most recent call last)",
      "\u001b[1;32m<ipython-input-1-3c4be596aac7>\u001b[0m in \u001b[0;36m<module>\u001b[1;34m\u001b[0m\n\u001b[0;32m      6\u001b[0m                ]\n\u001b[0;32m      7\u001b[0m \u001b[1;33m\u001b[0m\u001b[0m\n\u001b[1;32m----> 8\u001b[1;33m \u001b[0mdf_east\u001b[0m \u001b[1;33m=\u001b[0m \u001b[0mmodel_df\u001b[0m\u001b[1;33m.\u001b[0m\u001b[0mloc\u001b[0m\u001b[1;33m[\u001b[0m\u001b[0mmodel_df\u001b[0m\u001b[1;33m[\u001b[0m\u001b[1;34m\"Conf\"\u001b[0m\u001b[1;33m]\u001b[0m \u001b[1;33m==\u001b[0m \u001b[1;34m\"East\"\u001b[0m\u001b[1;33m]\u001b[0m\u001b[1;33m\u001b[0m\u001b[1;33m\u001b[0m\u001b[0m\n\u001b[0m\u001b[0;32m      9\u001b[0m \u001b[0mtest_df_east\u001b[0m \u001b[1;33m=\u001b[0m \u001b[0mtest_df\u001b[0m\u001b[1;33m.\u001b[0m\u001b[0mloc\u001b[0m\u001b[1;33m[\u001b[0m\u001b[0mtest_df\u001b[0m\u001b[1;33m[\u001b[0m\u001b[1;34m\"Conf\"\u001b[0m\u001b[1;33m]\u001b[0m \u001b[1;33m==\u001b[0m \u001b[1;34m\"East\"\u001b[0m\u001b[1;33m]\u001b[0m\u001b[1;33m\u001b[0m\u001b[1;33m\u001b[0m\u001b[0m\n\u001b[0;32m     10\u001b[0m \u001b[1;33m\u001b[0m\u001b[0m\n",
      "\u001b[1;31mNameError\u001b[0m: name 'model_df' is not defined"
     ]
    }
   ],
   "source": [
    "drop_columns = ['playoffs_y_n', 'RK', 'Team', 'Year', 'Conf',\n",
    "#                 'G', 'W', 'L', \n",
    "                'MP', 'FG', 'FGA', 'FG%', '3P', '3PA', '3P%', '2P', '2PA', '2P%', 'FT', 'FTA', 'FT%', \n",
    "                'ORB', 'DRB', 'AST', 'STL', 'BLK', 'TOV', 'PF', 'PTS',\n",
    "#                 'W_%'\n",
    "               ]\n",
    "\n",
    "df_east = model_df.loc[model_df[\"Conf\"] == \"East\"]\n",
    "test_df_east = test_df.loc[test_df[\"Conf\"] == \"East\"]\n",
    "\n",
    "train_M3E = df_east.loc[df_east[\"Year\"] < 2017]\n",
    "test_M3E = df_east.loc[df_east[\"Year\"] >= 2017]\n",
    "# test = pd.concat([test, test_df_east], axis = 0)\n",
    "\n",
    "X_train_M3E = train_M3E.drop(columns=drop_columns)\n",
    "X_test_M3E = test_M3E.drop(columns=drop_columns)\n",
    "\n",
    "y_train_M3E = train_M3E[['playoffs_y_n']]\n",
    "y_test_M3E = test_M3E[['playoffs_y_n']]\n",
    "\n"
   ]
  },
  {
   "cell_type": "markdown",
   "metadata": {},
   "source": [
    "## RFC M3East"
   ]
  },
  {
   "cell_type": "code",
   "execution_count": 40,
   "metadata": {},
   "outputs": [
    {
     "name": "stdout",
     "output_type": "stream",
     "text": [
      "Training Data Score: 1.0\n",
      "Testing Data Score: 0.9111111111111111\n",
      "              precision    recall  f1-score   support\n",
      "\n",
      "           0       1.00      0.81      0.89        21\n",
      "           1       0.86      1.00      0.92        24\n",
      "\n",
      "    accuracy                           0.91        45\n",
      "   macro avg       0.93      0.90      0.91        45\n",
      "weighted avg       0.92      0.91      0.91        45\n",
      "\n",
      "-----------------\n"
     ]
    }
   ],
   "source": [
    "rfc_m3East= RandomForestClassifier()\n",
    "rfc_m3East.fit(X_train_M3E, y_train_M3E)\n",
    "\n",
    "print(f\"Training Data Score: {rfc_m3East.score(X_train_M3E, y_train_M3E)}\")\n",
    "print(f\"Testing Data Score: {rfc_m3East.score(X_test_M3E, y_test_M3E)}\")\n",
    "\n",
    "predictions_M3E = rfc_m3East.predict(X_test_M3E)\n",
    "print(classification_report(y_test_M3E, predictions_M3E))\n",
    "\n",
    "print (\"-----------------\")\n",
    "#importance\n",
    "# print (\" importance\")\n",
    "# feature_names_M3E = train_M3E.columns\n",
    "# importances = rfc_m3East.feature_importances_\n",
    "# sorted(zip(importances, feature_names_M3E), reverse=True)"
   ]
  },
  {
   "cell_type": "markdown",
   "metadata": {},
   "source": [
    "## Logistic M3East"
   ]
  },
  {
   "cell_type": "code",
   "execution_count": 31,
   "metadata": {},
   "outputs": [
    {
     "name": "stdout",
     "output_type": "stream",
     "text": [
      "M3East Logistic\n",
      "Training Data Score: 0.9429133858267716\n",
      "Testing Data Score: 0.9555555555555556\n"
     ]
    }
   ],
   "source": [
    "model_log_m3East = LogisticRegression()\n",
    "model_log_m3East.fit(X_train_M3E, y_train_M3E)\n",
    "\n",
    "print(\"M3East Logistic\")\n",
    "print(f\"Training Data Score: {model_log_m3East.score(X_train_M3E, y_train_M3E)}\")\n",
    "print(f\"Testing Data Score: {model_log_m3East.score(X_test_M3E, y_test_M3E)}\")"
   ]
  },
  {
   "cell_type": "markdown",
   "metadata": {},
   "source": [
    "## SVM M3East"
   ]
  },
  {
   "cell_type": "code",
   "execution_count": 32,
   "metadata": {},
   "outputs": [
    {
     "name": "stdout",
     "output_type": "stream",
     "text": [
      "M3East SVM\n",
      "Training Data Score: 0.9389763779527559\n",
      "Testing Data Score: 0.9555555555555556\n"
     ]
    }
   ],
   "source": [
    "model_SVC_m3East = SVC(kernel='linear')\n",
    "model_SVC_m3East.fit(X_train_M3E, y_train_M3E)\n",
    "\n",
    "print(\"M3East SVM\")\n",
    "print(f\"Training Data Score: {model_SVC_m3East.score(X_train_M3E, y_train_M3E)}\")\n",
    "print(f\"Testing Data Score: {model_SVC_m3East.score(X_test_M3E, y_test_M3E)}\")"
   ]
  },
  {
   "cell_type": "markdown",
   "metadata": {},
   "source": [
    "## 2020 Predictions"
   ]
  },
  {
   "cell_type": "code",
   "execution_count": 23,
   "metadata": {
    "scrolled": true
   },
   "outputs": [],
   "source": [
    "# X_2020 = test_df_east.drop(columns=drop_columns)\n",
    "\n",
    "# predictions_2020 = rfc_m3East.predict(X_2020)\n",
    "\n",
    "# predicted_2020 = predictions_2020\n",
    "# teams_2020 = test_df_east[\"Team\"].tolist()\n",
    "# years_2020 = test_df_east[\"Year\"].tolist()\n",
    "# conf_2020 = test_df_east[\"Conf\"].tolist()\n",
    "# predict_table = pd.DataFrame({\"Team\": teams_2020, \"Conf\": conf_2020, \"Year\": years_2020, \"Predicted\": predicted_2020}).reset_index(drop=True)\n",
    "# predict_table"
   ]
  },
  {
   "cell_type": "markdown",
   "metadata": {},
   "source": [
    "# Model 3West: Train Test Split Based on Year and Conference (West)"
   ]
  },
  {
   "cell_type": "markdown",
   "metadata": {},
   "source": [
    "## Select X and Y, Split, Train, Test"
   ]
  },
  {
   "cell_type": "code",
   "execution_count": 41,
   "metadata": {
    "scrolled": true
   },
   "outputs": [],
   "source": [
    "drop_columns = ['playoffs_y_n', 'RK', 'Team', 'Year', 'Conf',\n",
    "#                 'G', 'W', 'L', \n",
    "                'MP', 'FG', 'FGA', 'FG%', '3P', '3PA', '3P%', '2P', '2PA', '2P%', 'FT', 'FTA', 'FT%', \n",
    "                'ORB', 'DRB', 'AST', 'STL', 'BLK', 'TOV', 'PF', 'PTS',\n",
    "#                 'W_%'\n",
    "               ]\n",
    "\n",
    "df_west = model_df.loc[model_df[\"Conf\"] == \"West\"]\n",
    "test_df_west = test_df.loc[test_df[\"Conf\"] == \"West\"]\n",
    "\n",
    "train_M3W = df_west.loc[df_west[\"Year\"] < 2017]\n",
    "test_M3W = df_west.loc[df_west[\"Year\"] >= 2017]\n",
    "# test = pd.concat([test, test_df_west], axis = 0)\n",
    "\n",
    "X_train_M3W = train_M3W.drop(columns=drop_columns)\n",
    "X_test_M3W = test_M3W.drop(columns=drop_columns)\n",
    "\n",
    "y_train_M3W = train_M3W[['playoffs_y_n']]\n",
    "y_test_M3W = test_M3W[['playoffs_y_n']]"
   ]
  },
  {
   "cell_type": "markdown",
   "metadata": {},
   "source": [
    "## RFC M3West"
   ]
  },
  {
   "cell_type": "code",
   "execution_count": 42,
   "metadata": {},
   "outputs": [
    {
     "name": "stdout",
     "output_type": "stream",
     "text": [
      "Training Data Score: 1.0\n",
      "Testing Data Score: 0.9333333333333333\n",
      "              precision    recall  f1-score   support\n",
      "\n",
      "           0       0.95      0.90      0.93        21\n",
      "           1       0.92      0.96      0.94        24\n",
      "\n",
      "    accuracy                           0.93        45\n",
      "   macro avg       0.94      0.93      0.93        45\n",
      "weighted avg       0.93      0.93      0.93        45\n",
      "\n"
     ]
    }
   ],
   "source": [
    "rfc_m3West= RandomForestClassifier()\n",
    "rfc_m3West.fit(X_train_M3W, y_train_M3W)\n",
    "\n",
    "print(f\"Training Data Score: {rfc_m3West.score(X_train_M3W, y_train_M3W)}\")\n",
    "print(f\"Testing Data Score: {rfc_m3West.score(X_test_M3W, y_test_M3W)}\")\n",
    "\n",
    "predictions_M3W = rfc_m3West.predict(X_test_M3W)\n",
    "print(classification_report(y_test_M3W, predictions_M3W))\n",
    "\n",
    "# print (\"-----------------\")\n",
    "# #importance\n",
    "# print (\" importance\")\n",
    "# feature_names_M3W = train_M3W.columns\n",
    "# importances = rfc_m3West.feature_importances_\n",
    "# sorted(zip(importances, feature_names_M3W), reverse=True)"
   ]
  },
  {
   "cell_type": "markdown",
   "metadata": {},
   "source": [
    "## Logistic M3West"
   ]
  },
  {
   "cell_type": "code",
   "execution_count": 35,
   "metadata": {},
   "outputs": [
    {
     "name": "stdout",
     "output_type": "stream",
     "text": [
      "M2 Logistic\n",
      "Training Data Score: 0.9367588932806324\n",
      "Testing Data Score: 0.9333333333333333\n"
     ]
    }
   ],
   "source": [
    "model_log_m3West = LogisticRegression()\n",
    "model_log_m3West.fit(X_train_M3W, y_train_M3W)\n",
    "\n",
    "print(\"M2 Logistic\")\n",
    "print(f\"Training Data Score: {model_log_m3West.score(X_train_M3W, y_train_M3W)}\")\n",
    "print(f\"Testing Data Score: {model_log_m3West.score(X_test_M3W, y_test_M3W)}\")"
   ]
  },
  {
   "cell_type": "markdown",
   "metadata": {},
   "source": [
    "## SVM M3West"
   ]
  },
  {
   "cell_type": "code",
   "execution_count": 36,
   "metadata": {},
   "outputs": [
    {
     "name": "stdout",
     "output_type": "stream",
     "text": [
      "M3East Logistic\n",
      "Training Data Score: 0.9387351778656127\n",
      "Testing Data Score: 0.9111111111111111\n"
     ]
    }
   ],
   "source": [
    "model_SVC_m3West = SVC(kernel='linear')\n",
    "model_SVC_m3West.fit(X_train_M3W, y_train_M3W)\n",
    "\n",
    "print(\"M3East Logistic\")\n",
    "print(f\"Training Data Score: {model_SVC_m3West.score(X_train_M3W, y_train_M3W)}\")\n",
    "print(f\"Testing Data Score: {model_SVC_m3West.score(X_test_M3W, y_test_M3W)}\")"
   ]
  },
  {
   "cell_type": "markdown",
   "metadata": {},
   "source": [
    "## 2020 Predictions"
   ]
  },
  {
   "cell_type": "code",
   "execution_count": 20,
   "metadata": {},
   "outputs": [],
   "source": [
    "# X_2020 = test_df_west.drop(columns=drop_columns)\n",
    "\n",
    "# predictions_2020 = rfc_m3West.predict(X_2020)\n",
    "\n",
    "# predicted_2020 = predictions_2020\n",
    "# teams_2020 = test_df_west[\"Team\"].tolist()\n",
    "# years_2020 = test_df_west[\"Year\"].tolist()\n",
    "# conf_2020 = test_df_west[\"Conf\"].tolist()\n",
    "# predict_table = pd.DataFrame({\"Team\": teams_2020, \"Conf\": conf_2020, \"Year\": years_2020, \"Predicted\": predicted_2020}).reset_index(drop=True)\n",
    "# predict_table"
   ]
  },
  {
   "cell_type": "markdown",
   "metadata": {},
   "source": [
    "# Save the Model"
   ]
  },
  {
   "cell_type": "code",
   "execution_count": 70,
   "metadata": {},
   "outputs": [],
   "source": [
    "# rfc = 'models/rfc.h5'\n",
    "# joblib.dump(best_rfc_model, rfc)"
   ]
  },
  {
   "cell_type": "code",
   "execution_count": 71,
   "metadata": {},
   "outputs": [],
   "source": [
    "# loaded_model = joblib.load(\"models/rfc.h5\")\n",
    "# print(f\"{loaded_model.score(X_test, y_test)}\")\n"
   ]
  },
  {
   "cell_type": "code",
   "execution_count": null,
   "metadata": {},
   "outputs": [],
   "source": []
  }
 ],
 "metadata": {
  "kernel_info": {
   "name": "dev"
  },
  "kernelspec": {
   "display_name": "Python 3.7.5 64-bit ('PythonData': conda)",
   "language": "python",
   "name": "python37564bitpythondataconda93b4aacbe3a94029a49f9aca4966340b"
  },
  "language_info": {
   "codemirror_mode": {
    "name": "ipython",
    "version": 3
   },
   "file_extension": ".py",
   "mimetype": "text/x-python",
   "name": "python",
   "nbconvert_exporter": "python",
   "pygments_lexer": "ipython3",
   "version": "3.7.5"
  },
  "nteract": {
   "version": "0.12.3"
  }
 },
 "nbformat": 4,
 "nbformat_minor": 2
}
